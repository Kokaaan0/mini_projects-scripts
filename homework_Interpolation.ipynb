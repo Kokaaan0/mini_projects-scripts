{
 "cells": [
  {
   "cell_type": "code",
   "execution_count": 7,
   "id": "e79f2060-729c-438f-aba2-bf5994c7a8ef",
   "metadata": {},
   "outputs": [],
   "source": [
    "import numpy as np\n",
    "import math\n"
   ]
  },
  {
   "cell_type": "code",
   "execution_count": 12,
   "id": "b460c68b-1c00-4e19-8f6c-d9679f518dbc",
   "metadata": {},
   "outputs": [],
   "source": [
    "def linear_interpolation(signal, x):\n",
    "    x = np.asarray(x)\n",
    "    x1 = np.floor(x).astype(int)\n",
    "    x2 = np.ceil(x).astype(int)\n",
    "    y1 = signal[x1]\n",
    "    y2 = signal[x2]\n",
    "    y = y1 + (x - x1) * (y2 - y1) / (x2 - x1)\n",
    "    return y\n",
    "\n",
    "def nearest_neighbor_interpolation(signal, x):\n",
    "    x = np.asarray(x)\n",
    "    x1 = np.floor(x).astype(int)\n",
    "    x2 = np.ceil(x).astype(int)\n",
    "    dist_1 = x - x1\n",
    "    dist_2 = x2 - x\n",
    "    return np.where(dist_1 < dist_2, signal[x1], signal[x2])\n",
    "\n",
    "def cubic_interpolation(signal, x):\n",
    "    x = np.asarray(x)\n",
    "    x_floor = np.floor(x).astype(int)\n",
    "    x_ceil = np.ceil(x).astype(int)\n",
    "    p1 = signal[x_floor]\n",
    "    p2 = signal[x_ceil]\n",
    "    p0 = signal[x_floor - 1]\n",
    "    p3 = signal[x_ceil + 1]\n",
    "    y = p1 + 0.5 * x * (p2 - p0 + x * (2.0 * p0 - 5.0 * p1 + 4.0 * p2 - p3 + x * (3.0 * (p1 - p2) + p3 - p0)))\n",
    "    return y"
   ]
  },
  {
   "cell_type": "code",
   "execution_count": 18,
   "id": "4b5a4b0d-d7b9-444a-8f34-7bb6df61d0f4",
   "metadata": {},
   "outputs": [
    {
     "name": "stdout",
     "output_type": "stream",
     "text": [
      "3.74\n",
      "3.2\n",
      "3.5275\n"
     ]
    }
   ],
   "source": [
    "print(linear_interpolation(np.array([2.1, 3.2, 5, 8, 10]), 1.3))\n",
    "print(nearest_neighbor_interpolation(np.array([2.1, 3.2, 5, 8, 10]), 1.3))\n",
    "print(cubic_interpolation(np.array([1, 2, 4, 2, 3, 2]), 1.3))"
   ]
  },
  {
   "cell_type": "code",
   "execution_count": null,
   "id": "20dec4b8-1396-499c-9d6e-5ef46dc5d39b",
   "metadata": {},
   "outputs": [],
   "source": []
  }
 ],
 "metadata": {
  "kernelspec": {
   "display_name": "Python 3 (ipykernel)",
   "language": "python",
   "name": "python3"
  },
  "language_info": {
   "codemirror_mode": {
    "name": "ipython",
    "version": 3
   },
   "file_extension": ".py",
   "mimetype": "text/x-python",
   "name": "python",
   "nbconvert_exporter": "python",
   "pygments_lexer": "ipython3",
   "version": "3.11.6"
  }
 },
 "nbformat": 4,
 "nbformat_minor": 5
}
