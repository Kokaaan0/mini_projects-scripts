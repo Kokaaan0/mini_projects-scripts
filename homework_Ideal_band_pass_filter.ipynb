{
 "cells": [
  {
   "cell_type": "code",
   "execution_count": 4,
   "id": "1b823463-9afc-464b-a4e5-932d6636e5a0",
   "metadata": {},
   "outputs": [],
   "source": [
    "import cv2\n",
    "import numpy as np\n",
    "\n",
    "def ideal_bandpass_filter(img, d0_low, d0_high):\n",
    "\n",
    "    if len(img.shape) > 2:\n",
    "        img = cv2.cvtColor(img, cv2.COLOR_BGR2GRAY)\n",
    "\n",
    "    f = np.fft.fft2(img)\n",
    "    fshift = np.fft.fftshift(f)\n",
    "    rows, cols = img.shape\n",
    "    crow, ccol = rows // 2, cols // 2\n",
    "    mask = np.zeros((rows, cols), np.uint8)\n",
    "    for i in range(rows):\n",
    "        for j in range(cols):\n",
    "            dist = np.sqrt((i - crow) ** 2 + (j - ccol) ** 2)\n",
    "            if d0_low <= dist <= d0_high:\n",
    "                mask[i, j] = 1\n",
    "    fshift_filtered = fshift * mask\n",
    "    f_ishift = np.fft.ifftshift(fshift_filtered)\n",
    "    img_back = np.fft.ifft2(f_ishift)\n",
    "    img_back = np.abs(img_back)\n",
    "    img_back = np.uint8(img_back)\n",
    "    \n",
    "    return img_back"
   ]
  },
  {
   "cell_type": "code",
   "execution_count": null,
   "id": "1f6c089b-5879-42e9-b62b-bf8c12b0cc04",
   "metadata": {},
   "outputs": [],
   "source": []
  }
 ],
 "metadata": {
  "kernelspec": {
   "display_name": "Python 3 (ipykernel)",
   "language": "python",
   "name": "python3"
  },
  "language_info": {
   "codemirror_mode": {
    "name": "ipython",
    "version": 3
   },
   "file_extension": ".py",
   "mimetype": "text/x-python",
   "name": "python",
   "nbconvert_exporter": "python",
   "pygments_lexer": "ipython3",
   "version": "3.11.6"
  }
 },
 "nbformat": 4,
 "nbformat_minor": 5
}
